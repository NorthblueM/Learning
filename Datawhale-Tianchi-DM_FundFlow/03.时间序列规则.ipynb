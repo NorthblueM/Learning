{
 "cells": [
  {
   "cell_type": "markdown",
   "metadata": {},
   "source": [
    "* This script is used for the online course \"资金流入流出\" in Tianchi platform\n",
    "* 原出处Datawhale第十六期组队学习"
   ]
  },
  {
   "cell_type": "markdown",
   "metadata": {},
   "source": [
    "# 时间序列规则"
   ]
  },
  {
   "cell_type": "code",
   "execution_count": 1,
   "metadata": {},
   "outputs": [],
   "source": [
    "import pandas as pd\n",
    "import sklearn as skr\n",
    "import numpy as np\n",
    "import datetime\n",
    "import matplotlib.pyplot as plt\n",
    "import seaborn as sns\n",
    "from dateutil.relativedelta import relativedelta"
   ]
  },
  {
   "cell_type": "code",
   "execution_count": 2,
   "metadata": {},
   "outputs": [],
   "source": [
    "# 设置数据集路径\n",
    "\n",
    "dataset_path = '../../data/Datawhale-Tianchi-DM_FundFlow/data_origin/'"
   ]
  },
  {
   "cell_type": "code",
   "execution_count": 3,
   "metadata": {},
   "outputs": [],
   "source": [
    "# Load the balance data\n",
    "def load_data(path: str = 'user_balance_table.csv')->pd.DataFrame:\n",
    "    data_balance = pd.read_csv(path)\n",
    "    data_balance = add_timestamp(data_balance)\n",
    "    return data_balance.reset_index(drop=True)\n",
    "    \n",
    "\n",
    "# add tiemstamp to dataset\n",
    "def add_timestamp(data: pd.DataFrame, time_index: str = 'report_date')->pd.DataFrame:\n",
    "    data_balance = data.copy()\n",
    "    data_balance['date'] = pd.to_datetime(data_balance[time_index], format= \"%Y%m%d\")\n",
    "    data_balance['day'] = data_balance['date'].dt.day\n",
    "    data_balance['month'] = data_balance['date'].dt.month\n",
    "    data_balance['year'] = data_balance['date'].dt.year\n",
    "    data_balance['week'] = data_balance['date'].dt.week\n",
    "    data_balance['weekday'] = data_balance['date'].dt.weekday\n",
    "    return data_balance.reset_index(drop=True)\n",
    "\n",
    "# total amount\n",
    "def get_total_balance(data: pd.DataFrame, date: str = '2014-03-31')->pd.DataFrame:\n",
    "    df_tmp = data.copy()\n",
    "    df_tmp = df_tmp.groupby(['date'])['total_purchase_amt','total_redeem_amt'].sum()\n",
    "    df_tmp.reset_index(inplace=True)\n",
    "    return df_tmp[(df_tmp['date']>= date)].reset_index(drop=True)\n",
    "\n",
    "# Generate the test data\n",
    "def generate_test_data(data: pd.DataFrame)->pd.DataFrame:\n",
    "    total_balance = data.copy()\n",
    "    start = datetime.datetime(2014,9,1)\n",
    "    testdata = []\n",
    "    while start != datetime.datetime(2014,10,15):\n",
    "        temp = [start, np.nan, np.nan]\n",
    "        testdata.append(temp)\n",
    "        start += datetime.timedelta(days = 1)\n",
    "    testdata = pd.DataFrame(testdata)\n",
    "    testdata.columns = total_balance.columns\n",
    "\n",
    "    total_balance = pd.concat([total_balance, testdata], axis = 0)\n",
    "    total_balance = total_balance.reset_index(drop=True)\n",
    "    return total_balance.reset_index(drop=True)\n",
    "\n",
    "# Load user's information\n",
    "def load_user_information(path: str = 'user_profile_table.csv')->pd.DataFrame:\n",
    "    return pd.read_csv(path)"
   ]
  },
  {
   "cell_type": "code",
   "execution_count": 39,
   "metadata": {},
   "outputs": [],
   "source": [
    "# 载入数据\n",
    "\n",
    "balance_data = load_data(dataset_path + 'user_balance_table.csv')\n",
    "balance_data = add_timestamp(balance_data)\n",
    "total_balance = get_total_balance(balance_data, date = '2014-03-01')\n",
    "total_balance = generate_test_data(total_balance)\n",
    "total_balance = add_timestamp(total_balance, 'date')"
   ]
  },
  {
   "cell_type": "code",
   "execution_count": 31,
   "metadata": {},
   "outputs": [],
   "source": [
    "# total_balance['date'] = pd.to_datetime(total_balance['date'], format=\"%Y%m%d\").dt.date"
   ]
  },
  {
   "cell_type": "code",
   "execution_count": 40,
   "metadata": {},
   "outputs": [
    {
     "output_type": "execute_result",
     "data": {
      "text/plain": "   user_id  report_date  tBalance  yBalance  total_purchase_amt  \\\n0        1     20140805     20385     20383                   2   \n1        1     20140808     20391     20389                   2   \n2        1     20140811     20397     20395                   2   \n3        1     20140814     20403     20401                   2   \n4        1     20140817     20409     20407                   2   \n\n   direct_purchase_amt  purchase_bal_amt  purchase_bank_amt  total_redeem_amt  \\\n0                    0                 0                  0                 0   \n1                    0                 0                  0                 0   \n2                    0                 0                  0                 0   \n3                    0                 0                  0                 0   \n4                    0                 0                  0                 0   \n\n   consume_amt  ...  category1  category2  category3  category4       date  \\\n0            0  ...        NaN        NaN        NaN        NaN 2014-08-05   \n1            0  ...        NaN        NaN        NaN        NaN 2014-08-08   \n2            0  ...        NaN        NaN        NaN        NaN 2014-08-11   \n3            0  ...        NaN        NaN        NaN        NaN 2014-08-14   \n4            0  ...        NaN        NaN        NaN        NaN 2014-08-17   \n\n   day  month  year week  weekday  \n0    5      8  2014   32        1  \n1    8      8  2014   32        4  \n2   11      8  2014   33        0  \n3   14      8  2014   33        3  \n4   17      8  2014   33        6  \n\n[5 rows x 24 columns]",
      "text/html": "<div>\n<style scoped>\n    .dataframe tbody tr th:only-of-type {\n        vertical-align: middle;\n    }\n\n    .dataframe tbody tr th {\n        vertical-align: top;\n    }\n\n    .dataframe thead th {\n        text-align: right;\n    }\n</style>\n<table border=\"1\" class=\"dataframe\">\n  <thead>\n    <tr style=\"text-align: right;\">\n      <th></th>\n      <th>user_id</th>\n      <th>report_date</th>\n      <th>tBalance</th>\n      <th>yBalance</th>\n      <th>total_purchase_amt</th>\n      <th>direct_purchase_amt</th>\n      <th>purchase_bal_amt</th>\n      <th>purchase_bank_amt</th>\n      <th>total_redeem_amt</th>\n      <th>consume_amt</th>\n      <th>...</th>\n      <th>category1</th>\n      <th>category2</th>\n      <th>category3</th>\n      <th>category4</th>\n      <th>date</th>\n      <th>day</th>\n      <th>month</th>\n      <th>year</th>\n      <th>week</th>\n      <th>weekday</th>\n    </tr>\n  </thead>\n  <tbody>\n    <tr>\n      <th>0</th>\n      <td>1</td>\n      <td>20140805</td>\n      <td>20385</td>\n      <td>20383</td>\n      <td>2</td>\n      <td>0</td>\n      <td>0</td>\n      <td>0</td>\n      <td>0</td>\n      <td>0</td>\n      <td>...</td>\n      <td>NaN</td>\n      <td>NaN</td>\n      <td>NaN</td>\n      <td>NaN</td>\n      <td>2014-08-05</td>\n      <td>5</td>\n      <td>8</td>\n      <td>2014</td>\n      <td>32</td>\n      <td>1</td>\n    </tr>\n    <tr>\n      <th>1</th>\n      <td>1</td>\n      <td>20140808</td>\n      <td>20391</td>\n      <td>20389</td>\n      <td>2</td>\n      <td>0</td>\n      <td>0</td>\n      <td>0</td>\n      <td>0</td>\n      <td>0</td>\n      <td>...</td>\n      <td>NaN</td>\n      <td>NaN</td>\n      <td>NaN</td>\n      <td>NaN</td>\n      <td>2014-08-08</td>\n      <td>8</td>\n      <td>8</td>\n      <td>2014</td>\n      <td>32</td>\n      <td>4</td>\n    </tr>\n    <tr>\n      <th>2</th>\n      <td>1</td>\n      <td>20140811</td>\n      <td>20397</td>\n      <td>20395</td>\n      <td>2</td>\n      <td>0</td>\n      <td>0</td>\n      <td>0</td>\n      <td>0</td>\n      <td>0</td>\n      <td>...</td>\n      <td>NaN</td>\n      <td>NaN</td>\n      <td>NaN</td>\n      <td>NaN</td>\n      <td>2014-08-11</td>\n      <td>11</td>\n      <td>8</td>\n      <td>2014</td>\n      <td>33</td>\n      <td>0</td>\n    </tr>\n    <tr>\n      <th>3</th>\n      <td>1</td>\n      <td>20140814</td>\n      <td>20403</td>\n      <td>20401</td>\n      <td>2</td>\n      <td>0</td>\n      <td>0</td>\n      <td>0</td>\n      <td>0</td>\n      <td>0</td>\n      <td>...</td>\n      <td>NaN</td>\n      <td>NaN</td>\n      <td>NaN</td>\n      <td>NaN</td>\n      <td>2014-08-14</td>\n      <td>14</td>\n      <td>8</td>\n      <td>2014</td>\n      <td>33</td>\n      <td>3</td>\n    </tr>\n    <tr>\n      <th>4</th>\n      <td>1</td>\n      <td>20140817</td>\n      <td>20409</td>\n      <td>20407</td>\n      <td>2</td>\n      <td>0</td>\n      <td>0</td>\n      <td>0</td>\n      <td>0</td>\n      <td>0</td>\n      <td>...</td>\n      <td>NaN</td>\n      <td>NaN</td>\n      <td>NaN</td>\n      <td>NaN</td>\n      <td>2014-08-17</td>\n      <td>17</td>\n      <td>8</td>\n      <td>2014</td>\n      <td>33</td>\n      <td>6</td>\n    </tr>\n  </tbody>\n</table>\n<p>5 rows × 24 columns</p>\n</div>"
     },
     "metadata": {},
     "execution_count": 40
    }
   ],
   "source": [
    "balance_data.head()"
   ]
  },
  {
   "cell_type": "code",
   "execution_count": 41,
   "metadata": {
    "tags": []
   },
   "outputs": [
    {
     "output_type": "stream",
     "name": "stdout",
     "text": "<class 'pandas.core.frame.DataFrame'>\nRangeIndex: 228 entries, 0 to 227\nData columns (total 8 columns):\n #   Column              Non-Null Count  Dtype         \n---  ------              --------------  -----         \n 0   date                228 non-null    datetime64[ns]\n 1   total_purchase_amt  184 non-null    float64       \n 2   total_redeem_amt    184 non-null    float64       \n 3   day                 228 non-null    int64         \n 4   month               228 non-null    int64         \n 5   year                228 non-null    int64         \n 6   week                228 non-null    int64         \n 7   weekday             228 non-null    int64         \ndtypes: datetime64[ns](1), float64(2), int64(5)\nmemory usage: 14.4 KB\n"
    }
   ],
   "source": [
    "total_balance.info()"
   ]
  },
  {
   "cell_type": "code",
   "execution_count": 42,
   "metadata": {},
   "outputs": [
    {
     "output_type": "execute_result",
     "data": {
      "text/plain": "        date  total_purchase_amt  total_redeem_amt  day  month  year  week  \\\n0 2014-03-01         362865580.0       211279011.0    1      3  2014     9   \n1 2014-03-02         276202230.0       246199417.0    2      3  2014     9   \n2 2014-03-03         505305862.0       513017360.0    3      3  2014    10   \n3 2014-03-04         524146340.0       250562978.0    4      3  2014    10   \n4 2014-03-05         454295491.0       209072753.0    5      3  2014    10   \n\n   weekday  \n0        5  \n1        6  \n2        0  \n3        1  \n4        2  ",
      "text/html": "<div>\n<style scoped>\n    .dataframe tbody tr th:only-of-type {\n        vertical-align: middle;\n    }\n\n    .dataframe tbody tr th {\n        vertical-align: top;\n    }\n\n    .dataframe thead th {\n        text-align: right;\n    }\n</style>\n<table border=\"1\" class=\"dataframe\">\n  <thead>\n    <tr style=\"text-align: right;\">\n      <th></th>\n      <th>date</th>\n      <th>total_purchase_amt</th>\n      <th>total_redeem_amt</th>\n      <th>day</th>\n      <th>month</th>\n      <th>year</th>\n      <th>week</th>\n      <th>weekday</th>\n    </tr>\n  </thead>\n  <tbody>\n    <tr>\n      <th>0</th>\n      <td>2014-03-01</td>\n      <td>362865580.0</td>\n      <td>211279011.0</td>\n      <td>1</td>\n      <td>3</td>\n      <td>2014</td>\n      <td>9</td>\n      <td>5</td>\n    </tr>\n    <tr>\n      <th>1</th>\n      <td>2014-03-02</td>\n      <td>276202230.0</td>\n      <td>246199417.0</td>\n      <td>2</td>\n      <td>3</td>\n      <td>2014</td>\n      <td>9</td>\n      <td>6</td>\n    </tr>\n    <tr>\n      <th>2</th>\n      <td>2014-03-03</td>\n      <td>505305862.0</td>\n      <td>513017360.0</td>\n      <td>3</td>\n      <td>3</td>\n      <td>2014</td>\n      <td>10</td>\n      <td>0</td>\n    </tr>\n    <tr>\n      <th>3</th>\n      <td>2014-03-04</td>\n      <td>524146340.0</td>\n      <td>250562978.0</td>\n      <td>4</td>\n      <td>3</td>\n      <td>2014</td>\n      <td>10</td>\n      <td>1</td>\n    </tr>\n    <tr>\n      <th>4</th>\n      <td>2014-03-05</td>\n      <td>454295491.0</td>\n      <td>209072753.0</td>\n      <td>5</td>\n      <td>3</td>\n      <td>2014</td>\n      <td>10</td>\n      <td>2</td>\n    </tr>\n  </tbody>\n</table>\n</div>"
     },
     "metadata": {},
     "execution_count": 42
    }
   ],
   "source": [
    "total_balance.head()"
   ]
  },
  {
   "cell_type": "code",
   "execution_count": 43,
   "metadata": {},
   "outputs": [
    {
     "output_type": "execute_result",
     "data": {
      "text/plain": "          date  total_purchase_amt  total_redeem_amt  day  month  year  week  \\\n223 2014-10-10                 NaN               NaN   10     10  2014    41   \n224 2014-10-11                 NaN               NaN   11     10  2014    41   \n225 2014-10-12                 NaN               NaN   12     10  2014    41   \n226 2014-10-13                 NaN               NaN   13     10  2014    42   \n227 2014-10-14                 NaN               NaN   14     10  2014    42   \n\n     weekday  \n223        4  \n224        5  \n225        6  \n226        0  \n227        1  ",
      "text/html": "<div>\n<style scoped>\n    .dataframe tbody tr th:only-of-type {\n        vertical-align: middle;\n    }\n\n    .dataframe tbody tr th {\n        vertical-align: top;\n    }\n\n    .dataframe thead th {\n        text-align: right;\n    }\n</style>\n<table border=\"1\" class=\"dataframe\">\n  <thead>\n    <tr style=\"text-align: right;\">\n      <th></th>\n      <th>date</th>\n      <th>total_purchase_amt</th>\n      <th>total_redeem_amt</th>\n      <th>day</th>\n      <th>month</th>\n      <th>year</th>\n      <th>week</th>\n      <th>weekday</th>\n    </tr>\n  </thead>\n  <tbody>\n    <tr>\n      <th>223</th>\n      <td>2014-10-10</td>\n      <td>NaN</td>\n      <td>NaN</td>\n      <td>10</td>\n      <td>10</td>\n      <td>2014</td>\n      <td>41</td>\n      <td>4</td>\n    </tr>\n    <tr>\n      <th>224</th>\n      <td>2014-10-11</td>\n      <td>NaN</td>\n      <td>NaN</td>\n      <td>11</td>\n      <td>10</td>\n      <td>2014</td>\n      <td>41</td>\n      <td>5</td>\n    </tr>\n    <tr>\n      <th>225</th>\n      <td>2014-10-12</td>\n      <td>NaN</td>\n      <td>NaN</td>\n      <td>12</td>\n      <td>10</td>\n      <td>2014</td>\n      <td>41</td>\n      <td>6</td>\n    </tr>\n    <tr>\n      <th>226</th>\n      <td>2014-10-13</td>\n      <td>NaN</td>\n      <td>NaN</td>\n      <td>13</td>\n      <td>10</td>\n      <td>2014</td>\n      <td>42</td>\n      <td>0</td>\n    </tr>\n    <tr>\n      <th>227</th>\n      <td>2014-10-14</td>\n      <td>NaN</td>\n      <td>NaN</td>\n      <td>14</td>\n      <td>10</td>\n      <td>2014</td>\n      <td>42</td>\n      <td>1</td>\n    </tr>\n  </tbody>\n</table>\n</div>"
     },
     "metadata": {},
     "execution_count": 43
    }
   ],
   "source": [
    "total_balance.tail()"
   ]
  },
  {
   "cell_type": "code",
   "execution_count": 44,
   "metadata": {},
   "outputs": [],
   "source": [
    "# 创建数据的深层拷贝\n",
    "\n",
    "data = total_balance.copy()"
   ]
  },
  {
   "cell_type": "code",
   "execution_count": 45,
   "metadata": {},
   "outputs": [],
   "source": [
    "# 定义生成时间序列规则预测结果的方法\n",
    "\n",
    "def generate_base(df: pd.DataFrame, month_index: int)->pd.DataFrame:\n",
    "    # 选中固定时间段的数据集\n",
    "    total_balance = df.copy()\n",
    "    total_balance = total_balance[['date','total_purchase_amt','total_redeem_amt']]\n",
    "    total_balance = total_balance[(total_balance['date'] >= datetime.datetime(2014,3,1)) & (total_balance['date'] < datetime.datetime(2014, month_index, 1))]\n",
    "    # 勘误：比较需要为datetime.datetime\n",
    "\n",
    "    # 加入时间戳\n",
    "    total_balance['weekday'] = total_balance['date'].dt.weekday\n",
    "    total_balance['day'] = total_balance['date'].dt.day\n",
    "    total_balance['week'] = total_balance['date'].dt.week\n",
    "    total_balance['month'] = total_balance['date'].dt.month\n",
    "    \n",
    "    # 统计翌日因子\n",
    "    mean_of_each_weekday = total_balance[['weekday']+['total_purchase_amt','total_redeem_amt']].groupby('weekday',as_index=False).mean()\n",
    "    for name in ['total_purchase_amt','total_redeem_amt']:\n",
    "        mean_of_each_weekday = mean_of_each_weekday.rename(columns={name: name+'_weekdaymean'})\n",
    "    mean_of_each_weekday['total_purchase_amt_weekdaymean'] /= np.mean(total_balance['total_purchase_amt'])\n",
    "    mean_of_each_weekday['total_redeem_amt_weekdaymean'] /= np.mean(total_balance['total_redeem_amt'])\n",
    "\n",
    "    # 合并统计结果到原数据集\n",
    "    total_balance = pd.merge(total_balance, mean_of_each_weekday, on='weekday', how='left')\n",
    "\n",
    "    # 分别统计翌日在(1~31)号出现的频次\n",
    "    weekday_count = total_balance[['day','weekday','date']].groupby(['day','weekday'],as_index=False).count()\n",
    "    weekday_count = pd.merge(weekday_count, mean_of_each_weekday, on='weekday')\n",
    "\n",
    "    # 依据频次对翌日因子进行加权，获得日期因子\n",
    "    weekday_count['total_purchase_amt_weekdaymean'] *= weekday_count['date']   / len(np.unique(total_balance['month']))\n",
    "    weekday_count['total_redeem_amt_weekdaymean'] *= weekday_count['date']  / len(np.unique(total_balance['month']))\n",
    "    day_rate = weekday_count.drop(['weekday','date'],axis=1).groupby('day',as_index=False).sum()\n",
    "\n",
    "    # 将训练集中所有日期的均值剔除日期残差得到base\n",
    "    day_mean = total_balance[['day'] + ['total_purchase_amt','total_redeem_amt']].groupby('day',as_index=False).mean()\n",
    "    day_pre = pd.merge(day_mean, day_rate, on='day', how='left')\n",
    "    day_pre['total_purchase_amt'] /= day_pre['total_purchase_amt_weekdaymean']\n",
    "    day_pre['total_redeem_amt'] /= day_pre['total_redeem_amt_weekdaymean']\n",
    "\n",
    "    # 生成测试集数据\n",
    "    for index, row in day_pre.iterrows():\n",
    "        if month_index in (2,4,6,9) and row['day'] == 31:\n",
    "            break\n",
    "        day_pre.loc[index, 'date'] = datetime.datetime(2014, month_index, int(row['day']))\n",
    "\n",
    "    # 基于base与翌日因子获得最后的预测结果\n",
    "    day_pre['weekday'] = day_pre.date.dt.weekday\n",
    "    day_pre = day_pre[['date','weekday']+['total_purchase_amt','total_redeem_amt']]\n",
    "    day_pre = pd.merge(day_pre, mean_of_each_weekday,on='weekday')\n",
    "    day_pre['total_purchase_amt'] *= day_pre['total_purchase_amt_weekdaymean']\n",
    "    day_pre['total_redeem_amt'] *= day_pre['total_redeem_amt_weekdaymean']\n",
    "\n",
    "    day_pre = day_pre.sort_values('date')[['date']+['total_purchase_amt','total_redeem_amt']]\n",
    "    return day_pre"
   ]
  },
  {
   "cell_type": "code",
   "execution_count": 46,
   "metadata": {},
   "outputs": [],
   "source": [
    "# 生成预测结果（以及残差）\n",
    "\n",
    "base_list = []\n",
    "for i in range(4, 10):\n",
    "    base_list.append(generate_base(data, i).reset_index(drop=True))\n",
    "\n",
    "base = pd.concat(base_list).reset_index(drop=True)\n",
    "for i in ['total_purchase_amt','total_redeem_amt']:\n",
    "    base = base.rename(columns={i: i+'_base'})\n",
    "\n",
    "data = pd.merge(data.reset_index(drop=True), base.reset_index(drop=True), on='date', how='left').reset_index(drop=True)\n",
    "\n",
    "data['purchase_residual'] = data['total_purchase_amt'] / data['total_purchase_amt_base']\n",
    "\n",
    "data['redeem_residual'] = data['total_redeem_amt'] / data['total_redeem_amt_base']"
   ]
  },
  {
   "cell_type": "code",
   "execution_count": 47,
   "metadata": {},
   "outputs": [],
   "source": [
    "# 对结果表重命名\n",
    "\n",
    "data = data[['date','purchase_residual','redeem_residual','total_purchase_amt_base', 'total_redeem_amt_base']]\n",
    "for i in data.columns:\n",
    "    if i == 'date':\n",
    "        data[i] = data[i].astype(str)\n",
    "        data[i] = data[i].str.replace('-','')\n",
    "data.columns = [['date'] + ['total_purchase_amt','total_redeem_amt'] + ['total_purchase_predicted_by_cycle','total_redeem_predicted_by_cycle'] ]"
   ]
  },
  {
   "cell_type": "code",
   "execution_count": 48,
   "metadata": {},
   "outputs": [],
   "source": [
    "# 保存预测结果到本地\n",
    "\n",
    "data.to_csv('../../data/Datawhale-Tianchi-DM_FundFlow/data_submit/base_task3.csv',index=False)"
   ]
  },
  {
   "cell_type": "code",
   "execution_count": null,
   "metadata": {},
   "outputs": [],
   "source": []
  }
 ],
 "metadata": {
  "kernelspec": {
   "display_name": "Python 3",
   "language": "python",
   "name": "python3"
  },
  "language_info": {
   "codemirror_mode": {
    "name": "ipython",
    "version": 3
   },
   "file_extension": ".py",
   "mimetype": "text/x-python",
   "name": "python",
   "nbconvert_exporter": "python",
   "pygments_lexer": "ipython3",
   "version": "3.7.7-final"
  }
 },
 "nbformat": 4,
 "nbformat_minor": 2
}