{
 "cells": [
  {
   "cell_type": "markdown",
   "metadata": {},
   "source": [
    "# chapter1-5_practice"
   ]
  },
  {
   "cell_type": "code",
   "execution_count": 10,
   "metadata": {},
   "outputs": [],
   "source": [
    "import pandas as pd\n",
    "import numpy as np"
   ]
  },
  {
   "cell_type": "markdown",
   "metadata": {},
   "source": [
    "## 一、2002 年-2018 年上海机动车拍照拍卖"
   ]
  },
  {
   "cell_type": "code",
   "execution_count": 11,
   "metadata": {},
   "outputs": [
    {
     "output_type": "execute_result",
     "data": {
      "text/plain": "    Date  Total number of license issued  lowest price   avg price  \\\n0  2-Jan                            1400          13600      14735   \n1  2-Feb                            1800          13100      14057   \n2  2-Mar                            2000          14300      14662   \n3  2-Apr                            2300          16000      16334   \n4  2-May                            2350          17800      18357   \n\n   Total number of applicants  \n0                        3718  \n1                        4590  \n2                        5190  \n3                        4806  \n4                        4665  ",
      "text/html": "<div>\n<style scoped>\n    .dataframe tbody tr th:only-of-type {\n        vertical-align: middle;\n    }\n\n    .dataframe tbody tr th {\n        vertical-align: top;\n    }\n\n    .dataframe thead th {\n        text-align: right;\n    }\n</style>\n<table border=\"1\" class=\"dataframe\">\n  <thead>\n    <tr style=\"text-align: right;\">\n      <th></th>\n      <th>Date</th>\n      <th>Total number of license issued</th>\n      <th>lowest price</th>\n      <th>avg price</th>\n      <th>Total number of applicants</th>\n    </tr>\n  </thead>\n  <tbody>\n    <tr>\n      <th>0</th>\n      <td>2-Jan</td>\n      <td>1400</td>\n      <td>13600</td>\n      <td>14735</td>\n      <td>3718</td>\n    </tr>\n    <tr>\n      <th>1</th>\n      <td>2-Feb</td>\n      <td>1800</td>\n      <td>13100</td>\n      <td>14057</td>\n      <td>4590</td>\n    </tr>\n    <tr>\n      <th>2</th>\n      <td>2-Mar</td>\n      <td>2000</td>\n      <td>14300</td>\n      <td>14662</td>\n      <td>5190</td>\n    </tr>\n    <tr>\n      <th>3</th>\n      <td>2-Apr</td>\n      <td>2300</td>\n      <td>16000</td>\n      <td>16334</td>\n      <td>4806</td>\n    </tr>\n    <tr>\n      <th>4</th>\n      <td>2-May</td>\n      <td>2350</td>\n      <td>17800</td>\n      <td>18357</td>\n      <td>4665</td>\n    </tr>\n  </tbody>\n</table>\n</div>"
     },
     "metadata": {},
     "execution_count": 11
    }
   ],
   "source": [
    "df1 = pd.read_csv('chapter1-5_practice_data/2002年-2018年上海机动车拍照拍卖.csv')\n",
    "df1.head()"
   ]
  },
  {
   "cell_type": "code",
   "execution_count": 12,
   "metadata": {},
   "outputs": [
    {
     "output_type": "execute_result",
     "data": {
      "text/plain": "       Date  Total number of license issued  lowest price   avg price  \\\n198  18-Aug                           10402          88300      88365   \n199  18-Sep                           12712          87300      87410   \n200  18-Oct                           10728          88000      88070   \n201  18-Nov                           11766          87300      87374   \n202  18-Dec                           12850          87400      87508   \n\n     Total number of applicants  \n198                      192755  \n199                      189142  \n200                      181861  \n201                      177355  \n202                      165442  ",
      "text/html": "<div>\n<style scoped>\n    .dataframe tbody tr th:only-of-type {\n        vertical-align: middle;\n    }\n\n    .dataframe tbody tr th {\n        vertical-align: top;\n    }\n\n    .dataframe thead th {\n        text-align: right;\n    }\n</style>\n<table border=\"1\" class=\"dataframe\">\n  <thead>\n    <tr style=\"text-align: right;\">\n      <th></th>\n      <th>Date</th>\n      <th>Total number of license issued</th>\n      <th>lowest price</th>\n      <th>avg price</th>\n      <th>Total number of applicants</th>\n    </tr>\n  </thead>\n  <tbody>\n    <tr>\n      <th>198</th>\n      <td>18-Aug</td>\n      <td>10402</td>\n      <td>88300</td>\n      <td>88365</td>\n      <td>192755</td>\n    </tr>\n    <tr>\n      <th>199</th>\n      <td>18-Sep</td>\n      <td>12712</td>\n      <td>87300</td>\n      <td>87410</td>\n      <td>189142</td>\n    </tr>\n    <tr>\n      <th>200</th>\n      <td>18-Oct</td>\n      <td>10728</td>\n      <td>88000</td>\n      <td>88070</td>\n      <td>181861</td>\n    </tr>\n    <tr>\n      <th>201</th>\n      <td>18-Nov</td>\n      <td>11766</td>\n      <td>87300</td>\n      <td>87374</td>\n      <td>177355</td>\n    </tr>\n    <tr>\n      <th>202</th>\n      <td>18-Dec</td>\n      <td>12850</td>\n      <td>87400</td>\n      <td>87508</td>\n      <td>165442</td>\n    </tr>\n  </tbody>\n</table>\n</div>"
     },
     "metadata": {},
     "execution_count": 12
    }
   ],
   "source": [
    "df1.tail()"
   ]
  },
  {
   "cell_type": "code",
   "execution_count": 13,
   "metadata": {},
   "outputs": [
    {
     "output_type": "execute_result",
     "data": {
      "text/plain": "(203, 5)"
     },
     "metadata": {},
     "execution_count": 13
    }
   ],
   "source": [
    "df1.shape"
   ]
  },
  {
   "cell_type": "code",
   "execution_count": 14,
   "metadata": {},
   "outputs": [],
   "source": [
    "df1=df1.rename(columns=dict(zip(df1.columns, ['data', 'issued', 'price_lowest', 'price_avg','applicants'])))"
   ]
  },
  {
   "cell_type": "markdown",
   "metadata": {},
   "source": [
    "### (1) 哪一次拍卖的中标率首次小于5%？"
   ]
  },
  {
   "cell_type": "code",
   "execution_count": 15,
   "metadata": {},
   "outputs": [
    {
     "output_type": "execute_result",
     "data": {
      "text/plain": "'15-May'"
     },
     "metadata": {},
     "execution_count": 15
    }
   ],
   "source": [
    "df1[(df1['issued']/df1['applicants'])<0.05]['data'].iloc[0]"
   ]
  },
  {
   "cell_type": "markdown",
   "metadata": {},
   "source": [
    "### (2) 按年统计拍卖最低价的下列统计量：最大值、均值、0.75 分位数，要求显示在同一张表上。"
   ]
  },
  {
   "cell_type": "code",
   "execution_count": 67,
   "metadata": {},
   "outputs": [
    {
     "output_type": "execute_result",
     "data": {
      "text/plain": "77050.0"
     },
     "metadata": {},
     "execution_count": 67
    }
   ],
   "source": [
    "df11['price_lowest'].quantile(0.75)"
   ]
  },
  {
   "cell_type": "code",
   "execution_count": 68,
   "metadata": {},
   "outputs": [
    {
     "output_type": "execute_result",
     "data": {
      "text/plain": "        max          mean  quantile_0.75\nyear                                    \n2002  30800  20316.666667          24300\n2003  38500  31983.333333          36300\n2004  44200  29408.333333          38400\n2005  37900  31908.333333          35600\n2006  39900  37058.333333          39525\n2007  53800  45691.666667          48950\n2008  37300  29945.454545          34150\n2009  36900  31333.333333          34150\n2010  44900  38008.333333          41825\n2011  53800  47958.333333          51000\n2012  68900  61108.333333          65325\n2013  90800  79125.000000          82550\n2014  74600  73816.666667          74000\n2015  85300  80575.000000          83450\n2016  88600  85733.333333          87475\n2017  93500  90616.666667          92350\n2018  89000  87825.000000          88150",
      "text/html": "<div>\n<style scoped>\n    .dataframe tbody tr th:only-of-type {\n        vertical-align: middle;\n    }\n\n    .dataframe tbody tr th {\n        vertical-align: top;\n    }\n\n    .dataframe thead th {\n        text-align: right;\n    }\n</style>\n<table border=\"1\" class=\"dataframe\">\n  <thead>\n    <tr style=\"text-align: right;\">\n      <th></th>\n      <th>max</th>\n      <th>mean</th>\n      <th>quantile_0.75</th>\n    </tr>\n    <tr>\n      <th>year</th>\n      <th></th>\n      <th></th>\n      <th></th>\n    </tr>\n  </thead>\n  <tbody>\n    <tr>\n      <th>2002</th>\n      <td>30800</td>\n      <td>20316.666667</td>\n      <td>24300</td>\n    </tr>\n    <tr>\n      <th>2003</th>\n      <td>38500</td>\n      <td>31983.333333</td>\n      <td>36300</td>\n    </tr>\n    <tr>\n      <th>2004</th>\n      <td>44200</td>\n      <td>29408.333333</td>\n      <td>38400</td>\n    </tr>\n    <tr>\n      <th>2005</th>\n      <td>37900</td>\n      <td>31908.333333</td>\n      <td>35600</td>\n    </tr>\n    <tr>\n      <th>2006</th>\n      <td>39900</td>\n      <td>37058.333333</td>\n      <td>39525</td>\n    </tr>\n    <tr>\n      <th>2007</th>\n      <td>53800</td>\n      <td>45691.666667</td>\n      <td>48950</td>\n    </tr>\n    <tr>\n      <th>2008</th>\n      <td>37300</td>\n      <td>29945.454545</td>\n      <td>34150</td>\n    </tr>\n    <tr>\n      <th>2009</th>\n      <td>36900</td>\n      <td>31333.333333</td>\n      <td>34150</td>\n    </tr>\n    <tr>\n      <th>2010</th>\n      <td>44900</td>\n      <td>38008.333333</td>\n      <td>41825</td>\n    </tr>\n    <tr>\n      <th>2011</th>\n      <td>53800</td>\n      <td>47958.333333</td>\n      <td>51000</td>\n    </tr>\n    <tr>\n      <th>2012</th>\n      <td>68900</td>\n      <td>61108.333333</td>\n      <td>65325</td>\n    </tr>\n    <tr>\n      <th>2013</th>\n      <td>90800</td>\n      <td>79125.000000</td>\n      <td>82550</td>\n    </tr>\n    <tr>\n      <th>2014</th>\n      <td>74600</td>\n      <td>73816.666667</td>\n      <td>74000</td>\n    </tr>\n    <tr>\n      <th>2015</th>\n      <td>85300</td>\n      <td>80575.000000</td>\n      <td>83450</td>\n    </tr>\n    <tr>\n      <th>2016</th>\n      <td>88600</td>\n      <td>85733.333333</td>\n      <td>87475</td>\n    </tr>\n    <tr>\n      <th>2017</th>\n      <td>93500</td>\n      <td>90616.666667</td>\n      <td>92350</td>\n    </tr>\n    <tr>\n      <th>2018</th>\n      <td>89000</td>\n      <td>87825.000000</td>\n      <td>88150</td>\n    </tr>\n  </tbody>\n</table>\n</div>"
     },
     "metadata": {},
     "execution_count": 68
    }
   ],
   "source": [
    "# 先第三问\n",
    "\n",
    "# 如果需要使用多个函数，并且其中至少有一个带参数，则使用wrap技巧：\n",
    "def f_quantile(s, quant):\n",
    "    return s.quantile(quant)\n",
    "def agg_f(f_mul,name,*args,**kwargs):\n",
    "    def wrapper(x):\n",
    "        return f_mul(x,*args,**kwargs)\n",
    "    wrapper.__name__ = name\n",
    "    return wrapper\n",
    "quantile_f = agg_f(f_quantile, 'quantile_0.75', 0.75)\n",
    "\n",
    "\n",
    "df11.groupby('year')['price_lowest'].agg(['max','mean',quantile_f])"
   ]
  },
  {
   "cell_type": "markdown",
   "metadata": {},
   "source": [
    "### (3) 将第一列时间列拆分成两个列，一列为年份（格式为20××），另一列为月份（英语缩写），添加到列表作为第一第二列，并将原表第一列删除，其他列依次向后顺延。"
   ]
  },
  {
   "cell_type": "code",
   "execution_count": 43,
   "metadata": {},
   "outputs": [],
   "source": [
    "df11 = df1.copy()\n",
    "df11['year'], df11['month'] = df11['data'].str.split('-', 1).str\n",
    "# str.split(str=\"\", num=string.count(str))"
   ]
  },
  {
   "cell_type": "code",
   "execution_count": 44,
   "metadata": {},
   "outputs": [],
   "source": [
    "df11.update(df11['year'].apply(lambda x:'200'+x if len(x)==1 else '20'+x))"
   ]
  },
  {
   "cell_type": "code",
   "execution_count": 45,
   "metadata": {},
   "outputs": [],
   "source": [
    "del df11['data']"
   ]
  },
  {
   "cell_type": "code",
   "execution_count": 95,
   "metadata": {},
   "outputs": [],
   "source": [
    "df11=df11.reindex(columns=df11.columns[:4].insert(0, 'year').insert(1, 'month'))"
   ]
  },
  {
   "cell_type": "code",
   "execution_count": 96,
   "metadata": {},
   "outputs": [
    {
     "output_type": "execute_result",
     "data": {
      "text/plain": "     year month  issued  price_lowest  price_avg  applicants\n0    2002   Jan    1400         13600      14735        3718\n1    2002   Feb    1800         13100      14057        4590\n2    2002   Mar    2000         14300      14662        5190\n3    2002   Apr    2300         16000      16334        4806\n4    2002   May    2350         17800      18357        4665\n..    ...   ...     ...           ...        ...         ...\n198  2018   Aug   10402         88300      88365      192755\n199  2018   Sep   12712         87300      87410      189142\n200  2018   Oct   10728         88000      88070      181861\n201  2018   Nov   11766         87300      87374      177355\n202  2018   Dec   12850         87400      87508      165442\n\n[203 rows x 6 columns]",
      "text/html": "<div>\n<style scoped>\n    .dataframe tbody tr th:only-of-type {\n        vertical-align: middle;\n    }\n\n    .dataframe tbody tr th {\n        vertical-align: top;\n    }\n\n    .dataframe thead th {\n        text-align: right;\n    }\n</style>\n<table border=\"1\" class=\"dataframe\">\n  <thead>\n    <tr style=\"text-align: right;\">\n      <th></th>\n      <th>year</th>\n      <th>month</th>\n      <th>issued</th>\n      <th>price_lowest</th>\n      <th>price_avg</th>\n      <th>applicants</th>\n    </tr>\n  </thead>\n  <tbody>\n    <tr>\n      <th>0</th>\n      <td>2002</td>\n      <td>Jan</td>\n      <td>1400</td>\n      <td>13600</td>\n      <td>14735</td>\n      <td>3718</td>\n    </tr>\n    <tr>\n      <th>1</th>\n      <td>2002</td>\n      <td>Feb</td>\n      <td>1800</td>\n      <td>13100</td>\n      <td>14057</td>\n      <td>4590</td>\n    </tr>\n    <tr>\n      <th>2</th>\n      <td>2002</td>\n      <td>Mar</td>\n      <td>2000</td>\n      <td>14300</td>\n      <td>14662</td>\n      <td>5190</td>\n    </tr>\n    <tr>\n      <th>3</th>\n      <td>2002</td>\n      <td>Apr</td>\n      <td>2300</td>\n      <td>16000</td>\n      <td>16334</td>\n      <td>4806</td>\n    </tr>\n    <tr>\n      <th>4</th>\n      <td>2002</td>\n      <td>May</td>\n      <td>2350</td>\n      <td>17800</td>\n      <td>18357</td>\n      <td>4665</td>\n    </tr>\n    <tr>\n      <th>...</th>\n      <td>...</td>\n      <td>...</td>\n      <td>...</td>\n      <td>...</td>\n      <td>...</td>\n      <td>...</td>\n    </tr>\n    <tr>\n      <th>198</th>\n      <td>2018</td>\n      <td>Aug</td>\n      <td>10402</td>\n      <td>88300</td>\n      <td>88365</td>\n      <td>192755</td>\n    </tr>\n    <tr>\n      <th>199</th>\n      <td>2018</td>\n      <td>Sep</td>\n      <td>12712</td>\n      <td>87300</td>\n      <td>87410</td>\n      <td>189142</td>\n    </tr>\n    <tr>\n      <th>200</th>\n      <td>2018</td>\n      <td>Oct</td>\n      <td>10728</td>\n      <td>88000</td>\n      <td>88070</td>\n      <td>181861</td>\n    </tr>\n    <tr>\n      <th>201</th>\n      <td>2018</td>\n      <td>Nov</td>\n      <td>11766</td>\n      <td>87300</td>\n      <td>87374</td>\n      <td>177355</td>\n    </tr>\n    <tr>\n      <th>202</th>\n      <td>2018</td>\n      <td>Dec</td>\n      <td>12850</td>\n      <td>87400</td>\n      <td>87508</td>\n      <td>165442</td>\n    </tr>\n  </tbody>\n</table>\n<p>203 rows × 6 columns</p>\n</div>"
     },
     "metadata": {},
     "execution_count": 96
    }
   ],
   "source": [
    "df11"
   ]
  },
  {
   "cell_type": "markdown",
   "metadata": {},
   "source": [
    "### (4) 现在将表格行索引设为多级索引，外层为年份，内层为原表格第二至第五列的变量名，列索引为月份。"
   ]
  },
  {
   "cell_type": "code",
   "execution_count": null,
   "metadata": {},
   "outputs": [],
   "source": []
  },
  {
   "cell_type": "markdown",
   "metadata": {},
   "source": [
    "### (5) 一般而言某个月最低价与上月最低价的差额，会与该月均值与上月均值的差额具有相同的正负号，哪些拍卖时间不具有这个特点？"
   ]
  },
  {
   "cell_type": "code",
   "execution_count": 75,
   "metadata": {},
   "outputs": [
    {
     "output_type": "execute_result",
     "data": {
      "text/plain": "     issued  price_lowest  price_avg  applicants  year month\n21     4500         32800      34842        9383  2003   Oct\n22     5042         33100      34284        9849  2003   Nov\n29     6233         17800      21001       19233  2004   Jun\n36     5500         28500      32520        6208  2005   Jan\n37     3800         31700      32425        8949  2005   Feb\n44     6700         26500      28927       10972  2005   Sep\n52     4500         37700      38139        8301  2006   May\n56     6500         37000      41601        7064  2006   Sep\n60     6000         38500      40974        6587  2007   Jan\n61     3500         39100      40473        5056  2007   Feb\n71     7500         50000      56042       10356  2007   Dec\n128    9500         65200      66708       19921  2012   Oct",
      "text/html": "<div>\n<style scoped>\n    .dataframe tbody tr th:only-of-type {\n        vertical-align: middle;\n    }\n\n    .dataframe tbody tr th {\n        vertical-align: top;\n    }\n\n    .dataframe thead th {\n        text-align: right;\n    }\n</style>\n<table border=\"1\" class=\"dataframe\">\n  <thead>\n    <tr style=\"text-align: right;\">\n      <th></th>\n      <th>issued</th>\n      <th>price_lowest</th>\n      <th>price_avg</th>\n      <th>applicants</th>\n      <th>year</th>\n      <th>month</th>\n    </tr>\n  </thead>\n  <tbody>\n    <tr>\n      <th>21</th>\n      <td>4500</td>\n      <td>32800</td>\n      <td>34842</td>\n      <td>9383</td>\n      <td>2003</td>\n      <td>Oct</td>\n    </tr>\n    <tr>\n      <th>22</th>\n      <td>5042</td>\n      <td>33100</td>\n      <td>34284</td>\n      <td>9849</td>\n      <td>2003</td>\n      <td>Nov</td>\n    </tr>\n    <tr>\n      <th>29</th>\n      <td>6233</td>\n      <td>17800</td>\n      <td>21001</td>\n      <td>19233</td>\n      <td>2004</td>\n      <td>Jun</td>\n    </tr>\n    <tr>\n      <th>36</th>\n      <td>5500</td>\n      <td>28500</td>\n      <td>32520</td>\n      <td>6208</td>\n      <td>2005</td>\n      <td>Jan</td>\n    </tr>\n    <tr>\n      <th>37</th>\n      <td>3800</td>\n      <td>31700</td>\n      <td>32425</td>\n      <td>8949</td>\n      <td>2005</td>\n      <td>Feb</td>\n    </tr>\n    <tr>\n      <th>44</th>\n      <td>6700</td>\n      <td>26500</td>\n      <td>28927</td>\n      <td>10972</td>\n      <td>2005</td>\n      <td>Sep</td>\n    </tr>\n    <tr>\n      <th>52</th>\n      <td>4500</td>\n      <td>37700</td>\n      <td>38139</td>\n      <td>8301</td>\n      <td>2006</td>\n      <td>May</td>\n    </tr>\n    <tr>\n      <th>56</th>\n      <td>6500</td>\n      <td>37000</td>\n      <td>41601</td>\n      <td>7064</td>\n      <td>2006</td>\n      <td>Sep</td>\n    </tr>\n    <tr>\n      <th>60</th>\n      <td>6000</td>\n      <td>38500</td>\n      <td>40974</td>\n      <td>6587</td>\n      <td>2007</td>\n      <td>Jan</td>\n    </tr>\n    <tr>\n      <th>61</th>\n      <td>3500</td>\n      <td>39100</td>\n      <td>40473</td>\n      <td>5056</td>\n      <td>2007</td>\n      <td>Feb</td>\n    </tr>\n    <tr>\n      <th>71</th>\n      <td>7500</td>\n      <td>50000</td>\n      <td>56042</td>\n      <td>10356</td>\n      <td>2007</td>\n      <td>Dec</td>\n    </tr>\n    <tr>\n      <th>128</th>\n      <td>9500</td>\n      <td>65200</td>\n      <td>66708</td>\n      <td>19921</td>\n      <td>2012</td>\n      <td>Oct</td>\n    </tr>\n  </tbody>\n</table>\n</div>"
     },
     "metadata": {},
     "execution_count": 75
    }
   ],
   "source": [
    "df11[df11['price_lowest'].diff()*df11['price_avg'].diff()<0]"
   ]
  },
  {
   "cell_type": "markdown",
   "metadata": {},
   "source": [
    "### (6) 将某一个月牌照发行量与其前两个月发行量均值的差额定义为发行增益，最初的两个月用0 填充，求发行增益极值出现的时间。"
   ]
  },
  {
   "cell_type": "code",
   "execution_count": 98,
   "metadata": {},
   "outputs": [
    {
     "output_type": "execute_result",
     "data": {
      "text/plain": "8500.0"
     },
     "metadata": {},
     "execution_count": 98
    }
   ],
   "source": [
    "# 利用索引对齐\n",
    "df12 = df11\n",
    "df121 = df12.set_index(pd.Series(range(1,df11.shape[0]+1)))\n",
    "s_avg = pd.Series(np.array(((df121['issued'] + df11['issued'])/2).dropna()), index=range(2,df11.shape[0]+1))\n",
    "(df11['issued'] - s_avg).max()"
   ]
  },
  {
   "cell_type": "code",
   "execution_count": 99,
   "metadata": {},
   "outputs": [
    {
     "output_type": "execute_result",
     "data": {
      "text/plain": "year             2008\nmonth             Jan\nissued          16000\nprice_lowest     8100\nprice_avg       23370\napplicants      20539\nName: 72, dtype: object"
     },
     "metadata": {},
     "execution_count": 99
    }
   ],
   "source": [
    "df11.iloc[(df11['issued'] - s_avg).idxmax()]"
   ]
  },
  {
   "cell_type": "markdown",
   "metadata": {},
   "source": [
    "## 二、2007 年-2019 年俄罗斯机场货运航班运载量"
   ]
  },
  {
   "cell_type": "markdown",
   "metadata": {},
   "source": [
    "### (1) 求每年货运航班总运量。"
   ]
  },
  {
   "cell_type": "markdown",
   "metadata": {},
   "source": [
    "### (2) 每年记录的机场都是相同的吗？"
   ]
  },
  {
   "cell_type": "markdown",
   "metadata": {},
   "source": [
    "### (3) 按年计算2010 年-2015 年全年货运量记录为0 的机场航班比例。"
   ]
  },
  {
   "cell_type": "markdown",
   "metadata": {},
   "source": [
    "### (4) 若某机场至少存在5 年或以上满足所有月运量记录都为0，则将其所有年份的记录信息从表中删除，并返回处理后的表格"
   ]
  },
  {
   "cell_type": "markdown",
   "metadata": {},
   "source": [
    "### (5) 采用一种合理的方式将所有机场划分为东南西北四个分区，并给出2017年-2019 年货运总量最大的区域。"
   ]
  },
  {
   "cell_type": "markdown",
   "metadata": {},
   "source": [
    "### (6) 在统计学中常常用秩代表排名，现在规定某个机场某年某个月的秩为该机场该月在当年所有月份中货运量的排名（例如*** 机场19 年1 月运量在整个19 年12 个月中排名第一，则秩为1），那么判断某月运量情况的相对大小的秩方法为将所有机场在该月的秩排名相加，并将这个量定义为每一个月的秩综合指数，请根据上述定义计算2016 年12 个月的秩综合指数。"
   ]
  },
  {
   "cell_type": "markdown",
   "metadata": {},
   "source": [
    "## 三、新冠肺炎在美国的传播"
   ]
  },
  {
   "cell_type": "markdown",
   "metadata": {},
   "source": [
    "### (1) 用corr() 函数计算县（每行都是一个县）人口与表中最后一天记录日期死亡数的相关系数。"
   ]
  },
  {
   "cell_type": "markdown",
   "metadata": {},
   "source": [
    "### (2) 截止到4 月1 日，统计每个州零感染县的比例。"
   ]
  },
  {
   "cell_type": "markdown",
   "metadata": {},
   "source": [
    "### (3) 请找出最早出确证病例的三个县。"
   ]
  },
  {
   "cell_type": "markdown",
   "metadata": {},
   "source": [
    "### (4) 按州统计单日死亡增加数，并给出哪个州在哪一天确诊数增加最大（这里指的是在所有州和所有天两个指标一起算，不是分别算）。"
   ]
  },
  {
   "cell_type": "markdown",
   "metadata": {},
   "source": [
    "### (5) 现需对每个州编制确证与死亡表，第一列为时间，并且起始时间为该州开始出现死亡比例的那一天，第二列和第三列分别为确证数和死亡数，每个州需要保存为一个单独的csv 文件，文件名为“州名.csv”。"
   ]
  },
  {
   "cell_type": "markdown",
   "metadata": {},
   "source": [
    "### (6) 现需对4 月1 日至4 月10 日编制新增确证数与新增死亡数表，第一列为州名，第二列和第三列分别为新增确证数和新增死亡数，分别保存为十个单独的csv 文件，文件名为“日期.csv”。"
   ]
  }
 ],
 "metadata": {
  "language_info": {
   "codemirror_mode": {
    "name": "ipython",
    "version": 3
   },
   "file_extension": ".py",
   "mimetype": "text/x-python",
   "name": "python",
   "nbconvert_exporter": "python",
   "pygments_lexer": "ipython3",
   "version": "3.8.1-final"
  },
  "orig_nbformat": 2,
  "kernelspec": {
   "name": "python3",
   "display_name": "Python 3"
  }
 },
 "nbformat": 4,
 "nbformat_minor": 2
}